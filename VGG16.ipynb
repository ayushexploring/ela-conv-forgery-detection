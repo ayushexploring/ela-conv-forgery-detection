{
 "cells": [
  {
   "cell_type": "code",
   "execution_count": 1,
   "id": "22ef6ed1",
   "metadata": {},
   "outputs": [],
   "source": [
    "from sklearn.model_selection import train_test_split\n",
    "from keras.utils.np_utils import to_categorical\n",
    "from pylab import *\n",
    "import matplotlib.pyplot as plt\n",
    "from keras import models\n",
    "from keras.models import load_model, Sequential\n",
    "from keras import layers\n",
    "import itertools\n",
    "from sklearn.metrics import confusion_matrix\n",
    "from PIL import Image\n",
    "import pandas as pd\n",
    "from keras.applications.vgg16 import VGG16\n",
    "import os"
   ]
  },
  {
   "cell_type": "code",
   "execution_count": 2,
   "id": "80ba900d",
   "metadata": {},
   "outputs": [],
   "source": [
    "def Read_image(path):\n",
    "    image = Image.open(path).convert('RGB')\n",
    "    return image"
   ]
  },
  {
   "cell_type": "code",
   "execution_count": 3,
   "id": "fd57c6d8",
   "metadata": {},
   "outputs": [],
   "source": [
    "image_size = (100, 100)\n",
    "def prepare_image(image_path):\n",
    "    return np.array(Read_image(image_path).resize(image_size)).flatten() / 255.0\n",
    "X = [] # ELA converted images\n",
    "Y = [] # 0 for fake, 1 for real"
   ]
  },
  {
   "cell_type": "code",
   "execution_count": 4,
   "id": "ba240bb1",
   "metadata": {},
   "outputs": [
    {
     "name": "stdout",
     "output_type": "stream",
     "text": [
      "Processing 500 images\n",
      "Processing 1000 images\n",
      "Processing 1500 images\n",
      "Processing 2000 images\n",
      "Processing 2500 images\n",
      "Processing 3000 images\n",
      "Processing 3500 images\n",
      "Processing 4000 images\n",
      "Processing 4500 images\n",
      "Processing 5000 images\n",
      "Processing 5500 images\n",
      "Processing 6000 images\n",
      "Processing 6500 images\n",
      "Processing 7000 images\n",
      "2100 2100\n"
     ]
    }
   ],
   "source": [
    "import random\n",
    "path = 'C:/Users/prati/ImageForgeryDetection/Dataset/CASIA2/Au/'\n",
    "for dirname, _, filenames in os.walk(path):\n",
    "    for filename in filenames:\n",
    "        if filename.endswith('jpg') or filename.endswith('png'):\n",
    "            full_path = os.path.join(dirname, filename)\n",
    "            X.append(prepare_image(full_path))\n",
    "            Y.append(1)\n",
    "            if len(Y) % 500 == 0:\n",
    "                print(f'Processing {len(Y)} images')\n",
    "\n",
    "random.shuffle(X)\n",
    "X = X[:2100]\n",
    "Y = Y[:2100]\n",
    "print(len(X), len(Y))"
   ]
  },
  {
   "cell_type": "code",
   "execution_count": 5,
   "id": "64d60082",
   "metadata": {},
   "outputs": [
    {
     "name": "stdout",
     "output_type": "stream",
     "text": [
      "Processing 2500 images\n",
      "Processing 3000 images\n",
      "Processing 3500 images\n",
      "Processing 4000 images\n",
      "4164 4164\n"
     ]
    }
   ],
   "source": [
    "path = 'C:/Users/prati/ImageForgeryDetection/Dataset/CASIA2/Tp/'\n",
    "for dirname, _, filenames in os.walk(path):\n",
    "    for filename in filenames:\n",
    "        if filename.endswith('jpg') or filename.endswith('png'):\n",
    "            full_path = os.path.join(dirname, filename)\n",
    "            X.append(prepare_image(full_path))\n",
    "            Y.append(0)\n",
    "            if len(Y) % 500 == 0:\n",
    "                print(f'Processing {len(Y)} images')\n",
    "\n",
    "print(len(X), len(Y))"
   ]
  },
  {
   "cell_type": "code",
   "execution_count": 6,
   "id": "fc20110f",
   "metadata": {},
   "outputs": [],
   "source": [
    "import numpy as np\n",
    "X = np.array(X)\n",
    "Y = to_categorical(Y, 2)\n",
    "X = X.reshape(-1, 100, 100, 3)"
   ]
  },
  {
   "cell_type": "code",
   "execution_count": 7,
   "id": "1ee67cd2",
   "metadata": {},
   "outputs": [],
   "source": [
    "X_train, X_val, Y_train, Y_val = train_test_split(X, Y, test_size = 0.2, random_state=5)\n",
    "vgg_conv = VGG16(weights='imagenet', include_top=False, input_shape=(100, 100, 3))"
   ]
  },
  {
   "cell_type": "code",
   "execution_count": 8,
   "id": "65f265ef",
   "metadata": {},
   "outputs": [],
   "source": [
    "def build_model():\n",
    "    model = models.Sequential()\n",
    "    for layer in vgg_conv.layers[:-5]:\n",
    "        layer.trainable = False\n",
    "\n",
    "    model.add(vgg_conv)\n",
    "    model.add(layers.Flatten())\n",
    "    model.add(layers.Dense(1024, activation='relu'))\n",
    "    model.add(layers.Dropout(0.25))\n",
    "    model.add(layers.Dense(2, activation='softmax'))\n",
    "    return model"
   ]
  },
  {
   "cell_type": "code",
   "execution_count": 9,
   "id": "ddd67d87",
   "metadata": {},
   "outputs": [
    {
     "name": "stdout",
     "output_type": "stream",
     "text": [
      "Model: \"sequential\"\n",
      "_________________________________________________________________\n",
      "Layer (type)                 Output Shape              Param #   \n",
      "=================================================================\n",
      "vgg16 (Functional)           (None, 3, 3, 512)         14714688  \n",
      "_________________________________________________________________\n",
      "flatten (Flatten)            (None, 4608)              0         \n",
      "_________________________________________________________________\n",
      "dense (Dense)                (None, 1024)              4719616   \n",
      "_________________________________________________________________\n",
      "dropout (Dropout)            (None, 1024)              0         \n",
      "_________________________________________________________________\n",
      "dense_1 (Dense)              (None, 2)                 2050      \n",
      "=================================================================\n",
      "Total params: 19,436,354\n",
      "Trainable params: 11,801,090\n",
      "Non-trainable params: 7,635,264\n",
      "_________________________________________________________________\n"
     ]
    }
   ],
   "source": [
    "model = build_model()\n",
    "model.summary()"
   ]
  },
  {
   "cell_type": "code",
   "execution_count": 10,
   "id": "28f3ace9",
   "metadata": {},
   "outputs": [],
   "source": [
    "from tensorflow.keras import optimizers\n",
    "\n",
    "#compile the model\n",
    "model.compile(loss='binary_crossentropy',optimizer=optimizers.RMSprop(learning_rate=1e-4),metrics=['accuracy'])"
   ]
  },
  {
   "cell_type": "code",
   "execution_count": 11,
   "id": "dd9114c1",
   "metadata": {},
   "outputs": [
    {
     "name": "stdout",
     "output_type": "stream",
     "text": [
      "Epoch 1/30\n",
      "105/105 - 389s - loss: 0.6840 - accuracy: 0.5932 - val_loss: 0.6556 - val_accuracy: 0.5990\n",
      "Epoch 2/30\n",
      "105/105 - 346s - loss: 0.5480 - accuracy: 0.7238 - val_loss: 0.6787 - val_accuracy: 0.6327\n",
      "Epoch 3/30\n",
      "105/105 - 362s - loss: 0.4281 - accuracy: 0.7989 - val_loss: 0.6167 - val_accuracy: 0.6639\n",
      "Epoch 4/30\n",
      "105/105 - 361s - loss: 0.3317 - accuracy: 0.8583 - val_loss: 0.7607 - val_accuracy: 0.7263\n",
      "Epoch 5/30\n",
      "105/105 - 366s - loss: 0.2601 - accuracy: 0.9012 - val_loss: 0.8561 - val_accuracy: 0.6819\n",
      "Epoch 6/30\n",
      "105/105 - 350s - loss: 0.2228 - accuracy: 0.9123 - val_loss: 1.0260 - val_accuracy: 0.7167\n",
      "Epoch 7/30\n",
      "105/105 - 290s - loss: 0.1849 - accuracy: 0.9279 - val_loss: 1.1739 - val_accuracy: 0.6759\n",
      "Epoch 8/30\n",
      "105/105 - 235s - loss: 0.1740 - accuracy: 0.9337 - val_loss: 1.8354 - val_accuracy: 0.6711\n",
      "Epoch 9/30\n",
      "105/105 - 227s - loss: 0.1515 - accuracy: 0.9409 - val_loss: 1.2079 - val_accuracy: 0.6927\n",
      "Epoch 10/30\n",
      "105/105 - 227s - loss: 0.1402 - accuracy: 0.9427 - val_loss: 1.7509 - val_accuracy: 0.7251\n",
      "Epoch 11/30\n",
      "105/105 - 226s - loss: 0.1415 - accuracy: 0.9451 - val_loss: 1.8080 - val_accuracy: 0.6399\n",
      "Epoch 12/30\n",
      "105/105 - 229s - loss: 0.1330 - accuracy: 0.9460 - val_loss: 2.3916 - val_accuracy: 0.7167\n",
      "Epoch 13/30\n",
      "105/105 - 232s - loss: 0.1313 - accuracy: 0.9529 - val_loss: 2.4811 - val_accuracy: 0.6735\n",
      "Epoch 14/30\n",
      "105/105 - 228s - loss: 0.1180 - accuracy: 0.9532 - val_loss: 3.0347 - val_accuracy: 0.6927\n",
      "Epoch 15/30\n",
      "105/105 - 230s - loss: 0.1235 - accuracy: 0.9532 - val_loss: 2.4592 - val_accuracy: 0.7083\n",
      "Epoch 16/30\n",
      "105/105 - 227s - loss: 0.1311 - accuracy: 0.9511 - val_loss: 2.0231 - val_accuracy: 0.7263\n",
      "Epoch 17/30\n",
      "105/105 - 231s - loss: 0.1085 - accuracy: 0.9580 - val_loss: 3.4820 - val_accuracy: 0.6999\n",
      "Epoch 18/30\n",
      "105/105 - 239s - loss: 0.1194 - accuracy: 0.9556 - val_loss: 2.1222 - val_accuracy: 0.7299\n",
      "Epoch 19/30\n",
      "105/105 - 230s - loss: 0.1478 - accuracy: 0.9571 - val_loss: 1.8126 - val_accuracy: 0.7467\n",
      "Epoch 20/30\n",
      "105/105 - 229s - loss: 0.0962 - accuracy: 0.9577 - val_loss: 3.5880 - val_accuracy: 0.6951\n",
      "Epoch 21/30\n",
      "105/105 - 230s - loss: 0.0946 - accuracy: 0.9586 - val_loss: 3.5725 - val_accuracy: 0.6591\n",
      "Epoch 22/30\n",
      "105/105 - 210s - loss: 0.1228 - accuracy: 0.9583 - val_loss: 2.8631 - val_accuracy: 0.7167\n",
      "Epoch 23/30\n",
      "105/105 - 186s - loss: 0.1139 - accuracy: 0.9616 - val_loss: 3.1451 - val_accuracy: 0.6759\n",
      "Epoch 24/30\n",
      "105/105 - 185s - loss: 0.0904 - accuracy: 0.9616 - val_loss: 6.0215 - val_accuracy: 0.7179\n",
      "Epoch 25/30\n",
      "105/105 - 185s - loss: 0.1109 - accuracy: 0.9580 - val_loss: 2.6588 - val_accuracy: 0.7191\n",
      "Epoch 26/30\n",
      "105/105 - 184s - loss: 0.1045 - accuracy: 0.9646 - val_loss: 3.2322 - val_accuracy: 0.7107\n",
      "Epoch 27/30\n",
      "105/105 - 184s - loss: 0.1372 - accuracy: 0.9610 - val_loss: 2.0049 - val_accuracy: 0.6495\n",
      "Epoch 28/30\n",
      "105/105 - 184s - loss: 0.0830 - accuracy: 0.9667 - val_loss: 3.6880 - val_accuracy: 0.7251\n",
      "Epoch 29/30\n",
      "105/105 - 184s - loss: 0.0962 - accuracy: 0.9634 - val_loss: 5.2363 - val_accuracy: 0.6903\n",
      "Epoch 30/30\n",
      "105/105 - 184s - loss: 0.1429 - accuracy: 0.9634 - val_loss: 3.6015 - val_accuracy: 0.7239\n"
     ]
    }
   ],
   "source": [
    "from tensorflow import keras\n",
    "from keras.applications.vgg16 import preprocess_input\n",
    "from keras.preprocessing.image import ImageDataGenerator\n",
    "epochs = 30\n",
    "batch_size = 32\n",
    "\n",
    "training_datagen = ImageDataGenerator(rescale=1./255,   # all pixel values will be between 0 an 1\n",
    "                                    shear_range=0.2, \n",
    "                                    zoom_range=0.2,\n",
    "                                    horizontal_flip=True,\n",
    "                                    preprocessing_function=preprocess_input)\n",
    "\n",
    "validation_datagen = ImageDataGenerator(rescale = 1./255, preprocessing_function=preprocess_input)\n",
    "\n",
    "history = model.fit(X_train, Y_train, batch_size=batch_size, epochs=epochs, validation_data=(X_val, Y_val),verbose=2)"
   ]
  },
  {
   "cell_type": "code",
   "execution_count": 12,
   "id": "82b71dfb",
   "metadata": {},
   "outputs": [],
   "source": [
    "model.save('VGG16.h5')"
   ]
  },
  {
   "cell_type": "code",
   "execution_count": 13,
   "id": "49da1a80",
   "metadata": {},
   "outputs": [
    {
     "data": {
      "image/png": "[encoded data removed]",
      "text/plain": [
       "<Figure size 432x288 with 2 Axes>"
      ]
     },
     "metadata": {
      "needs_background": "light"
     },
     "output_type": "display_data"
    }
   ],
   "source": [
    "# Plot the loss and accuracy curves for training and validation \n",
    "fig, ax = plt.subplots(2,1)\n",
    "ax[0].plot(history.history['loss'], color='b', label=\"Training loss\")\n",
    "ax[0].plot(history.history['val_loss'], color='r', label=\"validation loss\",axes =ax[0])\n",
    "legend = ax[0].legend(loc='best', shadow=True)\n",
    "\n",
    "ax[1].plot(history.history['accuracy'], color='b', label=\"Training accuracy\")\n",
    "ax[1].plot(history.history['val_accuracy'], color='r',label=\"Validation accuracy\")\n",
    "legend = ax[1].legend(loc='best', shadow=True)"
   ]
  },
  {
   "cell_type": "code",
   "execution_count": 14,
   "id": "e90a226e",
   "metadata": {},
   "outputs": [],
   "source": [
    "def plot_confusion_matrix(cm, classes,\n",
    "                          normalize=False,\n",
    "                          title='Confusion matrix',\n",
    "                          cmap=plt.cm.Blues):\n",
    "    \"\"\"\n",
    "    This function prints and plots the confusion matrix.\n",
    "    Normalization can be applied by setting `normalize=True`.\n",
    "    \"\"\"\n",
    "    plt.imshow(cm, interpolation='nearest', cmap=cmap)\n",
    "    plt.title(title)\n",
    "    plt.colorbar()\n",
    "    tick_marks = np.arange(len(classes))\n",
    "    plt.xticks(tick_marks, classes, rotation=45)\n",
    "    plt.yticks(tick_marks, classes)\n",
    "    if normalize:\n",
    "        cm = cm.astype('float') / cm.sum(axis=1)[:, np.newaxis]\n",
    "\n",
    "    thresh = cm.max() / 2.\n",
    "    for i, j in itertools.product(range(cm.shape[0]), range(cm.shape[1])):\n",
    "        plt.text(j, i, cm[i, j],\n",
    "                 horizontalalignment=\"center\",\n",
    "                 color=\"white\" if cm[i, j] > thresh else \"black\")\n",
    "\n",
    "    plt.tight_layout()\n",
    "    plt.ylabel('True label')\n",
    "    plt.xlabel('Predicted label')"
   ]
  },
  {
   "cell_type": "code",
   "execution_count": 15,
   "id": "43e6c065",
   "metadata": {},
   "outputs": [],
   "source": [
    "# Load the saved model from disk\n",
    "model = load_model('VGG16.h5')"
   ]
  },
  {
   "cell_type": "code",
   "execution_count": 16,
   "id": "d690b046",
   "metadata": {},
   "outputs": [
    {
     "data": {
      "image/png": "[encoded data removed]",
      "text/plain": [
       "<Figure size 432x288 with 2 Axes>"
      ]
     },
     "metadata": {
      "needs_background": "light"
     },
     "output_type": "display_data"
    }
   ],
   "source": [
    "# Predict the values from the validation dataset\n",
    "Y_pred = model.predict(X_val)\n",
    "# Convert predictions classes to one hot vectors \n",
    "Y_pred_classes = np.argmax(Y_pred,axis = 1) \n",
    "# Convert validation observations to one hot vectors\n",
    "Y_true = np.argmax(Y_val,axis = 1) \n",
    "# compute the confusion matrix\n",
    "confusion_mtx = confusion_matrix(Y_true, Y_pred_classes) \n",
    "# plot the confusion matrix\n",
    "plot_confusion_matrix(confusion_mtx, ['fake','real'])"
   ]
  },
  {
   "cell_type": "code",
   "execution_count": 17,
   "id": "c7ec698c",
   "metadata": {},
   "outputs": [
    {
     "name": "stdout",
     "output_type": "stream",
     "text": [
      "Precision score: 0.7253276358195332\n",
      "Recall score: 0.723889555822329\n",
      "F1 score: 0.7237892689534362\n"
     ]
    }
   ],
   "source": [
    "from sklearn import metrics\n",
    "score = metrics.precision_score(Y_true, Y_pred_classes, average= \"weighted\")\n",
    "print(\"Precision score: {}\".format(score))\n",
    "score = metrics.recall_score(Y_true, Y_pred_classes, average= \"weighted\")\n",
    "print(\"Recall score: {}\".format(score))\n",
    "score_lr1 = metrics.f1_score(Y_true, Y_pred_classes, average= \"weighted\")\n",
    "print(\"F1 score: {}\".format(score_lr1))"
   ]
  },
  {
   "cell_type": "code",
   "execution_count": 18,
   "id": "c62e039c",
   "metadata": {},
   "outputs": [],
   "source": [
    "class_names = ['fake', 'real']"
   ]
  },
  {
   "cell_type": "code",
   "execution_count": 19,
   "id": "34727739",
   "metadata": {},
   "outputs": [],
   "source": [
    "fake_image = os.listdir('C:/Users/prati/ImageForgeryDetection/Dataset/CASIA2/Tp/')\n",
    "correct = 0\n",
    "total = 0\n",
    "for file_name in fake_image:\n",
    "    if file_name.endswith('jpg') or filename.endswith('png'):\n",
    "        fake_image_path = os.path.join('C:/Users/prati/ImageForgeryDetection/Dataset/CASIA2/Tp/', file_name)\n",
    "        image = prepare_image(fake_image_path)\n",
    "        image = image.reshape(-1, 100, 100, 3)\n",
    "        y_pred = model.predict(image)\n",
    "        y_pred_class = np.argmax(y_pred, axis = 1)[0]\n",
    "        total += 1\n",
    "        if y_pred_class == 0:\n",
    "            correct += 1\n",
    "#             print(f'Class: {class_names[y_pred_class]} Confidence: {np.amax(y_pred) * 100:0.2f}')"
   ]
  },
  {
   "cell_type": "code",
   "execution_count": 20,
   "id": "03e9e4e2",
   "metadata": {},
   "outputs": [
    {
     "name": "stdout",
     "output_type": "stream",
     "text": [
      "Total: 2064, Correct: 1952, Acc: 94.57364341085271\n"
     ]
    }
   ],
   "source": [
    "print(f'Total: {total}, Correct: {correct}, Acc: {correct / total * 100.0}')"
   ]
  },
  {
   "cell_type": "code",
   "execution_count": 21,
   "id": "48655d73",
   "metadata": {},
   "outputs": [],
   "source": [
    "real_image = os.listdir('C:/Users/prati/ImageForgeryDetection/Dataset/CASIA2/Au/')\n",
    "correct_r = 0\n",
    "total_r = 0\n",
    "for file_name in real_image:\n",
    "    if file_name.endswith('jpg') or filename.endswith('png'):\n",
    "        real_image_path = os.path.join('C:/Users/prati/ImageForgeryDetection/Dataset/CASIA2/Au/', file_name)\n",
    "        image = prepare_image(real_image_path)\n",
    "        image = image.reshape(-1, 100, 100, 3)\n",
    "        y_pred = model.predict(image)\n",
    "        y_pred_class = np.argmax(y_pred, axis = 1)[0]\n",
    "        total_r += 1\n",
    "        if y_pred_class == 1:\n",
    "            correct_r += 1\n",
    "     #        print(f'Class: {class_names[y_pred_class]} Confidence: {np.amax(y_pred) * 100:0.2f}')"
   ]
  },
  {
   "cell_type": "code",
   "execution_count": 22,
   "id": "254a3ff4",
   "metadata": {},
   "outputs": [
    {
     "name": "stdout",
     "output_type": "stream",
     "text": [
      "Total: 7354, Correct: 5418, Acc: 73.67419091650802\n",
      "Total: 9418, Correct: 7370, Acc: 78.25440645572309\n"
     ]
    }
   ],
   "source": [
    "correct += correct_r\n",
    "total += total_r\n",
    "print(f'Total: {total_r}, Correct: {correct_r}, Acc: {correct_r / total_r * 100.0}')\n",
    "print(f'Total: {total}, Correct: {correct}, Acc: {correct / total * 100.0}')"
   ]
  }
 ],
 "metadata": {
  "kernelspec": {
   "display_name": "Python 3 (ipykernel)",
   "language": "python",
   "name": "python3"
  },
  "language_info": {
   "codemirror_mode": {
    "name": "ipython",
    "version": 3
   },
   "file_extension": ".py",
   "mimetype": "text/x-python",
   "name": "python",
   "nbconvert_exporter": "python",
   "pygments_lexer": "ipython3",
   "version": "3.10.12"
  }
 },
 "nbformat": 4,
 "nbformat_minor": 5
}
