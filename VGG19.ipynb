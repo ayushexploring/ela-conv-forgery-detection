{
 "cells": [
  {
   "cell_type": "code",
   "execution_count": 1,
   "id": "1c44a390",
   "metadata": {},
   "outputs": [],
   "source": [
    "from sklearn.model_selection import train_test_split\n",
    "from keras.utils.np_utils import to_categorical\n",
    "from pylab import *\n",
    "import matplotlib.pyplot as plt\n",
    "from keras import models\n",
    "from keras.models import load_model, Sequential\n",
    "from keras import layers\n",
    "import itertools\n",
    "from sklearn.metrics import confusion_matrix\n",
    "from PIL import Image\n",
    "import pandas as pd\n",
    "from keras.applications.vgg19 import VGG19\n",
    "from keras.callbacks import LearningRateScheduler\n",
    "import os"
   ]
  },
  {
   "cell_type": "code",
   "execution_count": 2,
   "id": "de5b3979",
   "metadata": {},
   "outputs": [],
   "source": [
    "def Read_image(path):\n",
    "    image = Image.open(path).convert('RGB')\n",
    "    return image"
   ]
  },
  {
   "cell_type": "code",
   "execution_count": 3,
   "id": "1770c28a",
   "metadata": {},
   "outputs": [],
   "source": [
    "def step_decay_schedule(initial_lr=1e-4, decay_factor=0.75, step_size=10):\n",
    "        def schedule(epoch):\n",
    "            return initial_lr * (decay_factor ** np.floor(epoch / step_size))\n",
    "        return LearningRateScheduler(schedule)"
   ]
  },
  {
   "cell_type": "code",
   "execution_count": 4,
   "id": "b0517fd4",
   "metadata": {},
   "outputs": [],
   "source": [
    "image_size = (100, 100)\n",
    "def prepare_image(image_path):\n",
    "    return np.array(Read_image(image_path).resize(image_size)).flatten() / 255.0\n",
    "X = [] # ELA converted images\n",
    "Y = [] # 0 for fake, 1 for real"
   ]
  },
  {
   "cell_type": "code",
   "execution_count": 5,
   "id": "e813a25d",
   "metadata": {},
   "outputs": [
    {
     "name": "stdout",
     "output_type": "stream",
     "text": [
      "Processing 500 images\n",
      "Processing 1000 images\n",
      "Processing 1500 images\n",
      "Processing 2000 images\n",
      "Processing 2500 images\n",
      "Processing 3000 images\n",
      "Processing 3500 images\n",
      "Processing 4000 images\n",
      "Processing 4500 images\n",
      "Processing 5000 images\n",
      "Processing 5500 images\n",
      "Processing 6000 images\n",
      "Processing 6500 images\n",
      "Processing 7000 images\n",
      "2100 2100\n"
     ]
    }
   ],
   "source": [
    "import random\n",
    "path = 'C:/Users/prati/ImageForgeryDetection/Dataset/CASIA2/Au/'\n",
    "for dirname, _, filenames in os.walk(path):\n",
    "    for filename in filenames:\n",
    "        if filename.endswith('jpg') or filename.endswith('png'):\n",
    "            full_path = os.path.join(dirname, filename)\n",
    "            X.append(prepare_image(full_path))\n",
    "            Y.append(1)\n",
    "            if len(Y) % 500 == 0:\n",
    "                print(f'Processing {len(Y)} images')\n",
    "\n",
    "random.shuffle(X)\n",
    "X = X[:2100]\n",
    "Y = Y[:2100]\n",
    "print(len(X), len(Y))"
   ]
  },
  {
   "cell_type": "code",
   "execution_count": 6,
   "id": "5978a738",
   "metadata": {},
   "outputs": [
    {
     "name": "stdout",
     "output_type": "stream",
     "text": [
      "Processing 2500 images\n",
      "Processing 3000 images\n",
      "Processing 3500 images\n",
      "Processing 4000 images\n",
      "4164 4164\n"
     ]
    }
   ],
   "source": [
    "path = 'C:/Users/prati/ImageForgeryDetection/Dataset/CASIA2/Tp/'\n",
    "for dirname, _, filenames in os.walk(path):\n",
    "    for filename in filenames:\n",
    "        if filename.endswith('jpg') or filename.endswith('png'):\n",
    "            full_path = os.path.join(dirname, filename)\n",
    "            X.append(prepare_image(full_path))\n",
    "            Y.append(0)\n",
    "            if len(Y) % 500 == 0:\n",
    "                print(f'Processing {len(Y)} images')\n",
    "\n",
    "print(len(X), len(Y))"
   ]
  },
  {
   "cell_type": "code",
   "execution_count": 7,
   "id": "61348a43",
   "metadata": {},
   "outputs": [],
   "source": [
    "import numpy as np\n",
    "X = np.array(X)\n",
    "Y = to_categorical(Y, 2)\n",
    "X = X.reshape(-1, 100, 100, 3)"
   ]
  },
  {
   "cell_type": "code",
   "execution_count": 8,
   "id": "8b96be64",
   "metadata": {},
   "outputs": [],
   "source": [
    "X_train, X_val, Y_train, Y_val = train_test_split(X, Y, test_size = 0.2, random_state=5)\n",
    "\n",
    "# Load the VGG model\n",
    "vgg_conv = VGG19(weights='imagenet', include_top=False, input_shape=(100, 100, 3))"
   ]
  },
  {
   "cell_type": "code",
   "execution_count": 9,
   "id": "df2f5ccb",
   "metadata": {},
   "outputs": [],
   "source": [
    "def build_model():\n",
    "    model = models.Sequential()\n",
    "    for layer in vgg_conv.layers[:-5]:\n",
    "        layer.trainable = False\n",
    "\n",
    "    model.add(vgg_conv)\n",
    "    model.add(layers.Flatten())\n",
    "    model.add(layers.Dense(1024, activation='relu'))\n",
    "    model.add(layers.Dropout(0.50))\n",
    "    model.add(layers.Dense(1024, activation='relu'))\n",
    "    model.add(layers.Dropout(0.50))\n",
    "    model.add(layers.Dense(2, activation='softmax'))\n",
    "    return model"
   ]
  },
  {
   "cell_type": "code",
   "execution_count": 10,
   "id": "4693873a",
   "metadata": {},
   "outputs": [
    {
     "name": "stdout",
     "output_type": "stream",
     "text": [
      "Model: \"sequential\"\n",
      "_________________________________________________________________\n",
      "Layer (type)                 Output Shape              Param #   \n",
      "=================================================================\n",
      "vgg19 (Functional)           (None, 3, 3, 512)         20024384  \n",
      "_________________________________________________________________\n",
      "flatten (Flatten)            (None, 4608)              0         \n",
      "_________________________________________________________________\n",
      "dense (Dense)                (None, 1024)              4719616   \n",
      "_________________________________________________________________\n",
      "dropout (Dropout)            (None, 1024)              0         \n",
      "_________________________________________________________________\n",
      "dense_1 (Dense)              (None, 1024)              1049600   \n",
      "_________________________________________________________________\n",
      "dropout_1 (Dropout)          (None, 1024)              0         \n",
      "_________________________________________________________________\n",
      "dense_2 (Dense)              (None, 2)                 2050      \n",
      "=================================================================\n",
      "Total params: 25,795,650\n",
      "Trainable params: 15,210,498\n",
      "Non-trainable params: 10,585,152\n",
      "_________________________________________________________________\n"
     ]
    }
   ],
   "source": [
    "model = build_model()\n",
    "model.summary()"
   ]
  },
  {
   "cell_type": "code",
   "execution_count": 11,
   "id": "327d7218",
   "metadata": {},
   "outputs": [],
   "source": [
    "from tensorflow.keras import optimizers\n",
    "optimizer = optimizers.Adam(learning_rate=1e-3, epsilon=1e-08, decay=0.0)\n",
    "model.compile(loss='binary_crossentropy',optimizer=optimizer,metrics=['accuracy'])"
   ]
  },
  {
   "cell_type": "code",
   "execution_count": 12,
   "id": "a1223ec0",
   "metadata": {},
   "outputs": [
    {
     "name": "stdout",
     "output_type": "stream",
     "text": [
      "Epoch 1/30\n",
      "105/105 - 614s - loss: 0.7112 - accuracy: 0.5251 - val_loss: 0.6634 - val_accuracy: 0.5990\n",
      "Epoch 2/30\n",
      "105/105 - 463s - loss: 0.6632 - accuracy: 0.5953 - val_loss: 0.6319 - val_accuracy: 0.6495\n",
      "Epoch 3/30\n",
      "105/105 - 604s - loss: 0.5807 - accuracy: 0.6971 - val_loss: 0.5979 - val_accuracy: 0.6807\n",
      "Epoch 4/30\n",
      "105/105 - 687s - loss: 0.4810 - accuracy: 0.7709 - val_loss: 0.5959 - val_accuracy: 0.6855\n",
      "Epoch 5/30\n",
      "105/105 - 532s - loss: 0.3658 - accuracy: 0.8397 - val_loss: 0.6767 - val_accuracy: 0.7107\n",
      "Epoch 6/30\n",
      "105/105 - 479s - loss: 0.2562 - accuracy: 0.8991 - val_loss: 0.7848 - val_accuracy: 0.7023\n",
      "Epoch 7/30\n",
      "105/105 - 467s - loss: 0.1904 - accuracy: 0.9295 - val_loss: 0.9365 - val_accuracy: 0.6951\n",
      "Epoch 8/30\n",
      "105/105 - 434s - loss: 0.1429 - accuracy: 0.9448 - val_loss: 1.0510 - val_accuracy: 0.6879\n",
      "Epoch 9/30\n",
      "105/105 - 436s - loss: 0.1251 - accuracy: 0.9508 - val_loss: 1.0139 - val_accuracy: 0.6867\n",
      "Epoch 10/30\n",
      "105/105 - 432s - loss: 0.1065 - accuracy: 0.9535 - val_loss: 1.1655 - val_accuracy: 0.6879\n",
      "Epoch 11/30\n",
      "105/105 - 434s - loss: 0.0830 - accuracy: 0.9634 - val_loss: 1.2625 - val_accuracy: 0.6939\n",
      "Epoch 12/30\n",
      "105/105 - 436s - loss: 0.0732 - accuracy: 0.9697 - val_loss: 1.2952 - val_accuracy: 0.7023\n",
      "Epoch 13/30\n",
      "105/105 - 433s - loss: 0.0660 - accuracy: 0.9667 - val_loss: 1.7095 - val_accuracy: 0.6939\n",
      "Epoch 14/30\n",
      "105/105 - 437s - loss: 0.0612 - accuracy: 0.9718 - val_loss: 1.8353 - val_accuracy: 0.6987\n",
      "Epoch 15/30\n",
      "105/105 - 436s - loss: 0.0513 - accuracy: 0.9736 - val_loss: 1.9673 - val_accuracy: 0.6903\n",
      "Epoch 16/30\n",
      "105/105 - 326s - loss: 0.0487 - accuracy: 0.9751 - val_loss: 2.2201 - val_accuracy: 0.6879\n",
      "Epoch 17/30\n",
      "105/105 - 8908s - loss: 0.0421 - accuracy: 0.9787 - val_loss: 2.3069 - val_accuracy: 0.6915\n",
      "Epoch 18/30\n",
      "105/105 - 262s - loss: 0.0402 - accuracy: 0.9781 - val_loss: 2.4727 - val_accuracy: 0.6951\n",
      "Epoch 19/30\n",
      "105/105 - 282s - loss: 0.0367 - accuracy: 0.9805 - val_loss: 2.5273 - val_accuracy: 0.6963\n",
      "Epoch 20/30\n",
      "105/105 - 282s - loss: 0.0359 - accuracy: 0.9799 - val_loss: 2.4706 - val_accuracy: 0.6975\n",
      "Epoch 21/30\n",
      "105/105 - 278s - loss: 0.0297 - accuracy: 0.9874 - val_loss: 2.9051 - val_accuracy: 0.6999\n",
      "Epoch 22/30\n",
      "105/105 - 277s - loss: 0.0306 - accuracy: 0.9847 - val_loss: 2.8810 - val_accuracy: 0.6987\n",
      "Epoch 23/30\n",
      "105/105 - 279s - loss: 0.0273 - accuracy: 0.9874 - val_loss: 3.1646 - val_accuracy: 0.6939\n",
      "Epoch 24/30\n",
      "105/105 - 284s - loss: 0.0265 - accuracy: 0.9889 - val_loss: 3.2114 - val_accuracy: 0.6915\n",
      "Epoch 25/30\n",
      "105/105 - 317s - loss: 0.0223 - accuracy: 0.9901 - val_loss: 3.4504 - val_accuracy: 0.6831\n",
      "Epoch 26/30\n",
      "105/105 - 460s - loss: 0.0237 - accuracy: 0.9886 - val_loss: 3.4430 - val_accuracy: 0.6951\n",
      "Epoch 27/30\n",
      "105/105 - 457s - loss: 0.0218 - accuracy: 0.9889 - val_loss: 3.5791 - val_accuracy: 0.6951\n",
      "Epoch 28/30\n",
      "105/105 - 458s - loss: 0.0208 - accuracy: 0.9895 - val_loss: 3.6417 - val_accuracy: 0.6951\n",
      "Epoch 29/30\n",
      "105/105 - 453s - loss: 0.0196 - accuracy: 0.9907 - val_loss: 3.7724 - val_accuracy: 0.6903\n",
      "Epoch 30/30\n",
      "105/105 - 434s - loss: 0.0189 - accuracy: 0.9922 - val_loss: 3.8375 - val_accuracy: 0.6939\n"
     ]
    }
   ],
   "source": [
    "from tensorflow import keras\n",
    "from keras.applications.vgg19 import preprocess_input\n",
    "from keras.preprocessing.image import ImageDataGenerator\n",
    "\n",
    "epochs = 30\n",
    "batch_size = 32\n",
    "\n",
    "lr_sched = step_decay_schedule(initial_lr=1e-4, decay_factor=0.75, step_size=2)\n",
    "\n",
    "training_datagen = ImageDataGenerator(rescale=1./255,   # all pixel values will be between 0 an 1\n",
    "                                    shear_range=0.2, \n",
    "                                    zoom_range=0.2,\n",
    "                                    horizontal_flip=True,\n",
    "                                    preprocessing_function=preprocess_input)\n",
    "\n",
    "validation_datagen = ImageDataGenerator(rescale = 1./255, preprocessing_function=preprocess_input)\n",
    "\n",
    "history = model.fit(X_train, Y_train, batch_size=batch_size, epochs=epochs, validation_data=(X_val, Y_val),verbose=2,callbacks=[lr_sched])"
   ]
  },
  {
   "cell_type": "code",
   "execution_count": 17,
   "id": "41cf693b",
   "metadata": {},
   "outputs": [],
   "source": [
    "model.save('VGG19.h5')"
   ]
  },
  {
   "cell_type": "code",
   "execution_count": 19,
   "id": "cd760655",
   "metadata": {},
   "outputs": [
    {
     "data": {
      "image/png": "[encoded data removed]",
      "text/plain": [
       "<Figure size 432x288 with 2 Axes>"
      ]
     },
     "metadata": {
      "needs_background": "light"
     },
     "output_type": "display_data"
    }
   ],
   "source": [
    "# Plot the loss and accuracy curves for training and validation \n",
    "fig, ax = plt.subplots(2,1)\n",
    "ax[0].plot(history.history['loss'], color='b', label=\"Training loss\")\n",
    "ax[0].plot(history.history['val_loss'], color='r', label=\"validation loss\",axes =ax[0])\n",
    "legend = ax[0].legend(loc='best', shadow=True)\n",
    "\n",
    "ax[1].plot(history.history['accuracy'], color='b', label=\"Training accuracy\")\n",
    "ax[1].plot(history.history['val_accuracy'], color='r',label=\"Validation accuracy\")\n",
    "legend = ax[1].legend(loc='best', shadow=True)"
   ]
  },
  {
   "cell_type": "code",
   "execution_count": 20,
   "id": "0ffab64f",
   "metadata": {},
   "outputs": [],
   "source": [
    "def plot_confusion_matrix(cm, classes,\n",
    "                          normalize=False,\n",
    "                          title='Confusion matrix',\n",
    "                          cmap=plt.cm.Blues):\n",
    "    \"\"\"\n",
    "    This function prints and plots the confusion matrix.\n",
    "    Normalization can be applied by setting `normalize=True`.\n",
    "    \"\"\"\n",
    "    plt.imshow(cm, interpolation='nearest', cmap=cmap)\n",
    "    plt.title(title)\n",
    "    plt.colorbar()\n",
    "    tick_marks = np.arange(len(classes))\n",
    "    plt.xticks(tick_marks, classes, rotation=45)\n",
    "    plt.yticks(tick_marks, classes)\n",
    "    if normalize:\n",
    "        cm = cm.astype('float') / cm.sum(axis=1)[:, np.newaxis]\n",
    "\n",
    "    thresh = cm.max() / 2.\n",
    "    for i, j in itertools.product(range(cm.shape[0]), range(cm.shape[1])):\n",
    "        plt.text(j, i, cm[i, j],\n",
    "                 horizontalalignment=\"center\",\n",
    "                 color=\"white\" if cm[i, j] > thresh else \"black\")\n",
    "\n",
    "    plt.tight_layout()\n",
    "    plt.ylabel('True label')\n",
    "    plt.xlabel('Predicted label')"
   ]
  },
  {
   "cell_type": "code",
   "execution_count": 21,
   "id": "4965d8b2",
   "metadata": {},
   "outputs": [],
   "source": [
    "# Load the saved model from disk\n",
    "model = load_model('VGG19.h5')"
   ]
  },
  {
   "cell_type": "code",
   "execution_count": 22,
   "id": "0d9b2340",
   "metadata": {},
   "outputs": [
    {
     "data": {
      "image/png": "[encoded data removed]",
      "text/plain": [
       "<Figure size 432x288 with 2 Axes>"
      ]
     },
     "metadata": {
      "needs_background": "light"
     },
     "output_type": "display_data"
    }
   ],
   "source": [
    "# Predict the values from the validation dataset\n",
    "Y_pred = model.predict(X_val)\n",
    "# Convert predictions classes to one hot vectors \n",
    "Y_pred_classes = np.argmax(Y_pred,axis = 1) \n",
    "# Convert validation observations to one hot vectors\n",
    "Y_true = np.argmax(Y_val,axis = 1) \n",
    "# compute the confusion matrix\n",
    "confusion_mtx = confusion_matrix(Y_true, Y_pred_classes) \n",
    "# plot the confusion matrix\n",
    "plot_confusion_matrix(confusion_mtx, ['fake','real'])"
   ]
  },
  {
   "cell_type": "code",
   "execution_count": 23,
   "id": "f3963918",
   "metadata": {},
   "outputs": [
    {
     "name": "stdout",
     "output_type": "stream",
     "text": [
      "Precision score: 0.6944857381989563\n",
      "Recall score: 0.6938775510204082\n",
      "F1 score: 0.6938925508593804\n"
     ]
    }
   ],
   "source": [
    "from sklearn import metrics\n",
    "score = metrics.precision_score(Y_true, Y_pred_classes, average= \"weighted\")\n",
    "print(\"Precision score: {}\".format(score))\n",
    "score = metrics.recall_score(Y_true, Y_pred_classes, average= \"weighted\")\n",
    "print(\"Recall score: {}\".format(score))\n",
    "score_lr1 = metrics.f1_score(Y_true, Y_pred_classes, average= \"weighted\")\n",
    "print(\"F1 score: {}\".format(score_lr1))"
   ]
  },
  {
   "cell_type": "code",
   "execution_count": 24,
   "id": "a73ab4b6",
   "metadata": {},
   "outputs": [],
   "source": [
    "class_names = ['fake', 'real']"
   ]
  },
  {
   "cell_type": "code",
   "execution_count": 25,
   "id": "a02381b8",
   "metadata": {},
   "outputs": [],
   "source": [
    "fake_image = os.listdir('C:/Users/prati/ImageForgeryDetection/Dataset/CASIA2/Tp/')\n",
    "correct = 0\n",
    "total = 0\n",
    "for file_name in fake_image:\n",
    "    if file_name.endswith('jpg') or filename.endswith('png'):\n",
    "        fake_image_path = os.path.join('C:/Users/prati/ImageForgeryDetection/Dataset/CASIA2/Tp/', file_name)\n",
    "        image = prepare_image(fake_image_path)\n",
    "        image = image.reshape(-1, 100, 100, 3)\n",
    "        y_pred = model.predict(image)\n",
    "        y_pred_class = np.argmax(y_pred, axis = 1)[0]\n",
    "        total += 1\n",
    "        if y_pred_class == 0:\n",
    "            correct += 1\n",
    "#             print(f'Class: {class_names[y_pred_class]} Confidence: {np.amax(y_pred) * 100:0.2f}')"
   ]
  },
  {
   "cell_type": "code",
   "execution_count": 26,
   "id": "14062944",
   "metadata": {},
   "outputs": [
    {
     "name": "stdout",
     "output_type": "stream",
     "text": [
      "Total: 2064, Correct: 1940, Acc: 93.9922480620155\n"
     ]
    }
   ],
   "source": [
    "print(f'Total: {total}, Correct: {correct}, Acc: {correct / total * 100.0}')"
   ]
  },
  {
   "cell_type": "code",
   "execution_count": 27,
   "id": "c18ea3f1",
   "metadata": {},
   "outputs": [],
   "source": [
    "real_image = os.listdir('C:/Users/prati/ImageForgeryDetection/Dataset/CASIA2/Au/')\n",
    "correct_r = 0\n",
    "total_r = 0\n",
    "for file_name in real_image:\n",
    "    if file_name.endswith('jpg') or filename.endswith('png'):\n",
    "        real_image_path = os.path.join('C:/Users/prati/ImageForgeryDetection/Dataset/CASIA2/Au/', file_name)\n",
    "        image = prepare_image(real_image_path)\n",
    "        image = image.reshape(-1, 100, 100, 3)\n",
    "        y_pred = model.predict(image)\n",
    "        y_pred_class = np.argmax(y_pred, axis = 1)[0]\n",
    "        total_r += 1\n",
    "        if y_pred_class == 1:\n",
    "            correct_r += 1\n",
    "     #        print(f'Class: {class_names[y_pred_class]} Confidence: {np.amax(y_pred) * 100:0.2f}')"
   ]
  },
  {
   "cell_type": "code",
   "execution_count": 28,
   "id": "4df3015d",
   "metadata": {},
   "outputs": [
    {
     "name": "stdout",
     "output_type": "stream",
     "text": [
      "Total: 7354, Correct: 5680, Acc: 77.2368778895839\n",
      "Total: 9418, Correct: 7620, Acc: 80.90889785517095\n"
     ]
    }
   ],
   "source": [
    "correct += correct_r\n",
    "total += total_r\n",
    "print(f'Total: {total_r}, Correct: {correct_r}, Acc: {correct_r / total_r * 100.0}')\n",
    "print(f'Total: {total}, Correct: {correct}, Acc: {correct / total * 100.0}')"
   ]
  }
 ],
 "metadata": {
  "kernelspec": {
   "display_name": "myenv",
   "language": "python",
   "name": "myenv"
  },
  "language_info": {
   "codemirror_mode": {
    "name": "ipython",
    "version": 3
   },
   "file_extension": ".py",
   "mimetype": "text/x-python",
   "name": "python",
   "nbconvert_exporter": "python",
   "pygments_lexer": "ipython3",
   "version": "3.6.13"
  }
 },
 "nbformat": 4,
 "nbformat_minor": 5
}
